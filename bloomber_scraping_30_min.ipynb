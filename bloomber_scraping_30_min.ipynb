{
 "cells": [
  {
   "cell_type": "code",
   "execution_count": 1,
   "id": "0078e64c",
   "metadata": {},
   "outputs": [],
   "source": [
    "import requests\n",
    "from bs4 import BeautifulSoup\n",
    "import pandas as pd\n",
    "from datetime import date,datetime\n",
    "import os, sys"
   ]
  },
  {
   "cell_type": "code",
   "execution_count": 7,
   "id": "686e2178",
   "metadata": {},
   "outputs": [
    {
     "name": "stdout",
     "output_type": "stream",
     "text": [
      "\r",
      "  0% [                                                                            ]      0 / 133989\r",
      "  6% [....                                                                        ]   8192 / 133989\r",
      " 12% [.........                                                                   ]  16384 / 133989\r",
      " 18% [.............                                                               ]  24576 / 133989\r",
      " 24% [..................                                                          ]  32768 / 133989\r",
      " 30% [.......................                                                     ]  40960 / 133989\r",
      " 36% [...........................                                                 ]  49152 / 133989\r",
      " 42% [................................                                            ]  57344 / 133989\r",
      " 48% [.....................................                                       ]  65536 / 133989\r",
      " 55% [.........................................                                   ]  73728 / 133989\r",
      " 61% [..............................................                              ]  81920 / 133989\r",
      " 67% [...................................................                         ]  90112 / 133989\r",
      " 73% [.......................................................                     ]  98304 / 133989\r",
      " 79% [............................................................                ] 106496 / 133989\r",
      " 85% [.................................................................           ] 114688 / 133989\r",
      " 91% [.....................................................................       ] 122880 / 133989\r",
      " 97% [..........................................................................  ] 131072 / 133989\r",
      "100% [............................................................................] 133989 / 133989"
     ]
    }
   ],
   "source": [
    "import wget\n",
    "url = 'https://www.bloomberg.com/feeds/sitemap_news.xml'\n",
    "today=date.today()\n",
    "now = datetime.now()\n",
    "current_time = now.strftime(\"%H_%M\")\n",
    "name=f\"sitemap_news_{today}__{current_time}.xml\"\n",
    "file_path=os.path.join(\"./xml_folder\",name)\n",
    "filename = wget.download(url,file_path)"
   ]
  },
  {
   "cell_type": "code",
   "execution_count": 8,
   "id": "94ac1d5a",
   "metadata": {},
   "outputs": [],
   "source": [
    "with open(filename, 'r',encoding='utf-8') as file:\n",
    "    xml_content = file.read()"
   ]
  },
  {
   "cell_type": "code",
   "execution_count": 9,
   "id": "8a8d9219",
   "metadata": {},
   "outputs": [],
   "source": [
    "soup = BeautifulSoup(xml_content, 'xml')\n",
    "urls = soup.find_all(\"url\")\n",
    "\n",
    "data = []\n",
    "for url in urls:\n",
    "    loc = url.loc.text\n",
    "    title = url.find(\"news:title\").text\n",
    "    publication_date = url.find(\"news:publication_date\").text[:10]\n",
    "    publication_time = url.find(\"news:publication_date\").text[11:19]\n",
    "    image_loc_tag = url.find(\"image:loc\")\n",
    "    if image_loc_tag is not None:\n",
    "        image_loc = image_loc_tag.text\n",
    "    row_data = {\n",
    "        \"URL\": loc,\n",
    "        \"Title\": title,\n",
    "        \"Publication Date\": publication_date,\n",
    "        \"Publication Time\": publication_time,\n",
    "        \"Image URL\": image_loc,\n",
    "        }\n",
    "    data.append(row_data)    \n",
    "df = pd.DataFrame(data)\n",
    "path=\"./json_folder\"\n",
    "df.to_json(os.path.join(path,f'sitemap_news_{today}__{current_time}.json'))"
   ]
  },
  {
   "cell_type": "code",
   "execution_count": 10,
   "id": "d8d581cd",
   "metadata": {},
   "outputs": [],
   "source": [
    "data = [(pd.read_json(os.path.join(path, f)), f[-10:-5]) for f in os.listdir(path) if f.endswith(\".json\")]\n",
    "news_count = pd.DataFrame({\"Time\": [time for _, time in data], \"Count\": [datas.shape[0] for datas, _ in data]})\n",
    "old_data = None\n",
    "old_time = None\n",
    "old_file_name = None\n",
    "news_data = []\n",
    "for d, t in data:\n",
    "    if old_data is not None:\n",
    "        old = set(old_data['Title'])\n",
    "        new = set(d['Title'])\n",
    "        dif_old = old.difference(new)\n",
    "        dif_new = new.difference(old)\n",
    "        inter = old.intersection(new)\n",
    "        news_time = old_time + ' - ' + t\n",
    "        news_data.append({'Time': news_time, 'NEW': len(dif_new), 'SAME': len(inter), 'EXCLUDED': len(dif_old)})\n",
    "    old_data = d\n",
    "    old_time = t\n",
    "all_news = pd.DataFrame({\"Time\": [d[\"Time\"] for d in news_data], \n",
    "                          \"NEW\": [d[\"NEW\"] for d in news_data], \n",
    "                          \"SAME\": [d[\"SAME\"] for d in news_data], \n",
    "                          \"EXCLUDED\": [d[\"EXCLUDED\"] for d in news_data]})"
   ]
  },
  {
   "cell_type": "code",
   "execution_count": 11,
   "id": "269623f5",
   "metadata": {},
   "outputs": [
    {
     "data": {
      "text/html": [
       "<div>\n",
       "<style scoped>\n",
       "    .dataframe tbody tr th:only-of-type {\n",
       "        vertical-align: middle;\n",
       "    }\n",
       "\n",
       "    .dataframe tbody tr th {\n",
       "        vertical-align: top;\n",
       "    }\n",
       "\n",
       "    .dataframe thead th {\n",
       "        text-align: right;\n",
       "    }\n",
       "</style>\n",
       "<table border=\"1\" class=\"dataframe\">\n",
       "  <thead>\n",
       "    <tr style=\"text-align: right;\">\n",
       "      <th></th>\n",
       "      <th>Time</th>\n",
       "      <th>Count</th>\n",
       "    </tr>\n",
       "  </thead>\n",
       "  <tbody>\n",
       "    <tr>\n",
       "      <th>0</th>\n",
       "      <td>14_01</td>\n",
       "      <td>152</td>\n",
       "    </tr>\n",
       "  </tbody>\n",
       "</table>\n",
       "</div>"
      ],
      "text/plain": [
       "    Time  Count\n",
       "0  14_01    152"
      ]
     },
     "execution_count": 11,
     "metadata": {},
     "output_type": "execute_result"
    }
   ],
   "source": [
    "news_count"
   ]
  },
  {
   "cell_type": "code",
   "execution_count": 12,
   "id": "48068169",
   "metadata": {},
   "outputs": [
    {
     "data": {
      "text/html": [
       "<div>\n",
       "<style scoped>\n",
       "    .dataframe tbody tr th:only-of-type {\n",
       "        vertical-align: middle;\n",
       "    }\n",
       "\n",
       "    .dataframe tbody tr th {\n",
       "        vertical-align: top;\n",
       "    }\n",
       "\n",
       "    .dataframe thead th {\n",
       "        text-align: right;\n",
       "    }\n",
       "</style>\n",
       "<table border=\"1\" class=\"dataframe\">\n",
       "  <thead>\n",
       "    <tr style=\"text-align: right;\">\n",
       "      <th></th>\n",
       "      <th>Time</th>\n",
       "      <th>NEW</th>\n",
       "      <th>SAME</th>\n",
       "      <th>EXCLUDED</th>\n",
       "    </tr>\n",
       "  </thead>\n",
       "  <tbody>\n",
       "  </tbody>\n",
       "</table>\n",
       "</div>"
      ],
      "text/plain": [
       "Empty DataFrame\n",
       "Columns: [Time, NEW, SAME, EXCLUDED]\n",
       "Index: []"
      ]
     },
     "execution_count": 12,
     "metadata": {},
     "output_type": "execute_result"
    }
   ],
   "source": [
    "all_news"
   ]
  },
  {
   "cell_type": "code",
   "execution_count": null,
   "id": "6570bccf",
   "metadata": {},
   "outputs": [],
   "source": [
    "https://aues.edu.kz/ru/students/diplom-one?institute_id=3"
   ]
  }
 ],
 "metadata": {
  "kernelspec": {
   "display_name": "Python 3 (ipykernel)",
   "language": "python",
   "name": "python3"
  },
  "language_info": {
   "codemirror_mode": {
    "name": "ipython",
    "version": 3
   },
   "file_extension": ".py",
   "mimetype": "text/x-python",
   "name": "python",
   "nbconvert_exporter": "python",
   "pygments_lexer": "ipython3",
   "version": "3.9.13"
  }
 },
 "nbformat": 4,
 "nbformat_minor": 5
}
