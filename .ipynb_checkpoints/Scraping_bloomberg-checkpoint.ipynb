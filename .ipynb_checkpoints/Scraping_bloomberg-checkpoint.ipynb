{
 "cells": [
  {
   "cell_type": "code",
   "execution_count": 1,
   "id": "2d4bdb70",
   "metadata": {},
   "outputs": [],
   "source": [
    "import requests\n",
    "from bs4 import BeautifulSoup\n",
    "import pandas as pd\n",
    "from datetime import date,datetime\n",
    "import os, sys"
   ]
  },
  {
   "cell_type": "code",
   "execution_count": 2,
   "id": "2d05c3ef",
   "metadata": {},
   "outputs": [
    {
     "ename": "NameError",
     "evalue": "name 'today' is not defined",
     "output_type": "error",
     "traceback": [
      "\u001b[1;31m---------------------------------------------------------------------------\u001b[0m",
      "\u001b[1;31mNameError\u001b[0m                                 Traceback (most recent call last)",
      "\u001b[1;32m~\\AppData\\Local\\Temp\\ipykernel_572\\1597006939.py\u001b[0m in \u001b[0;36m<module>\u001b[1;34m\u001b[0m\n\u001b[0;32m      3\u001b[0m \u001b[0mnow\u001b[0m \u001b[1;33m=\u001b[0m \u001b[0mdatetime\u001b[0m\u001b[1;33m.\u001b[0m\u001b[0mnow\u001b[0m\u001b[1;33m(\u001b[0m\u001b[1;33m)\u001b[0m\u001b[1;33m\u001b[0m\u001b[1;33m\u001b[0m\u001b[0m\n\u001b[0;32m      4\u001b[0m \u001b[0mcurrent_time\u001b[0m \u001b[1;33m=\u001b[0m \u001b[0mnow\u001b[0m\u001b[1;33m.\u001b[0m\u001b[0mstrftime\u001b[0m\u001b[1;33m(\u001b[0m\u001b[1;34m\"%H_%M\"\u001b[0m\u001b[1;33m)\u001b[0m\u001b[1;33m\u001b[0m\u001b[1;33m\u001b[0m\u001b[0m\n\u001b[1;32m----> 5\u001b[1;33m \u001b[0mname\u001b[0m\u001b[1;33m=\u001b[0m\u001b[1;34mf\"sitemap_news_{today}__{current_time}.xml\"\u001b[0m\u001b[1;33m\u001b[0m\u001b[1;33m\u001b[0m\u001b[0m\n\u001b[0m\u001b[0;32m      6\u001b[0m \u001b[0mfilename\u001b[0m \u001b[1;33m=\u001b[0m \u001b[0mwget\u001b[0m\u001b[1;33m.\u001b[0m\u001b[0mdownload\u001b[0m\u001b[1;33m(\u001b[0m\u001b[0murl\u001b[0m\u001b[1;33m,\u001b[0m \u001b[0mname\u001b[0m\u001b[1;33m)\u001b[0m\u001b[1;33m\u001b[0m\u001b[1;33m\u001b[0m\u001b[0m\n",
      "\u001b[1;31mNameError\u001b[0m: name 'today' is not defined"
     ]
    }
   ],
   "source": [
    "import wget\n",
    "url = 'https://www.bloomberg.com/feeds/sitemap_news.xml'\n",
    "now = datetime.now()\n",
    "current_time = now.strftime(\"%H_%M\")\n",
    "name=f\"sitemap_news_{today}__{current_time}.xml\"\n",
    "filename = wget.download(url, name)"
   ]
  },
  {
   "cell_type": "code",
   "execution_count": 3,
   "id": "f366b100",
   "metadata": {},
   "outputs": [
    {
     "ename": "NameError",
     "evalue": "name 'filename' is not defined",
     "output_type": "error",
     "traceback": [
      "\u001b[1;31m---------------------------------------------------------------------------\u001b[0m",
      "\u001b[1;31mNameError\u001b[0m                                 Traceback (most recent call last)",
      "\u001b[1;32m~\\AppData\\Local\\Temp\\ipykernel_572\\3197232394.py\u001b[0m in \u001b[0;36m<module>\u001b[1;34m\u001b[0m\n\u001b[1;32m----> 1\u001b[1;33m \u001b[1;32mwith\u001b[0m \u001b[0mopen\u001b[0m\u001b[1;33m(\u001b[0m\u001b[0mfilename\u001b[0m\u001b[1;33m,\u001b[0m \u001b[1;34m'r'\u001b[0m\u001b[1;33m,\u001b[0m\u001b[0mencoding\u001b[0m\u001b[1;33m=\u001b[0m\u001b[1;34m'utf-8'\u001b[0m\u001b[1;33m)\u001b[0m \u001b[1;32mas\u001b[0m \u001b[0mfile\u001b[0m\u001b[1;33m:\u001b[0m\u001b[1;33m\u001b[0m\u001b[1;33m\u001b[0m\u001b[0m\n\u001b[0m\u001b[0;32m      2\u001b[0m     \u001b[0mxml_content\u001b[0m \u001b[1;33m=\u001b[0m \u001b[0mfile\u001b[0m\u001b[1;33m.\u001b[0m\u001b[0mread\u001b[0m\u001b[1;33m(\u001b[0m\u001b[1;33m)\u001b[0m\u001b[1;33m\u001b[0m\u001b[1;33m\u001b[0m\u001b[0m\n",
      "\u001b[1;31mNameError\u001b[0m: name 'filename' is not defined"
     ]
    }
   ],
   "source": [
    "with open(filename, 'r',encoding='utf-8') as file:\n",
    "    xml_content = file.read()"
   ]
  },
  {
   "cell_type": "code",
   "execution_count": 17,
   "id": "aa8f0717",
   "metadata": {},
   "outputs": [],
   "source": [
    "soup = BeautifulSoup(xml_content, 'xml')"
   ]
  },
  {
   "cell_type": "code",
   "execution_count": 19,
   "id": "6b4ab600",
   "metadata": {},
   "outputs": [],
   "source": [
    "urls = soup.find_all(\"url\")\n",
    "\n",
    "data = []\n",
    "for url in urls:\n",
    "    loc = url.loc.text\n",
    "    title = url.find(\"news:title\").text\n",
    "    publication_date = url.find(\"news:publication_date\").text[:10]\n",
    "    publication_time = url.find(\"news:publication_date\").text[11:19]\n",
    "    image_loc_tag = url.find(\"image:loc\")\n",
    "    if image_loc_tag is not None:\n",
    "        image_loc = image_loc_tag.text\n",
    "    row_data = {\n",
    "        \"URL\": loc,\n",
    "        \"Title\": title,\n",
    "        \"Publication Date\": publication_date,\n",
    "        \"Publication Time\": publication_time,\n",
    "        \"Image URL\": image_loc,\n",
    "        }\n",
    "    data.append(row_data)    \n",
    "df = pd.DataFrame(data)"
   ]
  },
  {
   "cell_type": "code",
   "execution_count": 20,
   "id": "ae185ced",
   "metadata": {},
   "outputs": [],
   "source": [
    "df.to_json(f'sitemap_news_{today}__{current_time}.json')"
   ]
  },
  {
   "cell_type": "code",
   "execution_count": 54,
   "id": "000862d1",
   "metadata": {},
   "outputs": [],
   "source": [
    "path = \"C:/Users/Aytac Agayev/Documents/Scraping_blommberg_news_every_30_min/json/\"\n",
    "dirs = os.listdir( path )\n",
    "data=pd.read_csv(f\"C:/Users/Aytac Agayev/Documents/Scraping_blommberg_news_every_30_min/json/{dirs[0]}\")"
   ]
  },
  {
   "cell_type": "code",
   "execution_count": 97,
   "id": "b82ca9ac",
   "metadata": {},
   "outputs": [],
   "source": [
    "list1=[]\n",
    "list2=[]\n",
    "for i in range(len(dirs)):\n",
    "    data=pd.read_csv(f\"C:/Users/Aytac Agayev/Documents/Scraping_blommberg_news_every_30_min/json/{dirs[i]}\")\n",
    "    list1.append(data.shape[0])\n",
    "    list2.append(dirs[i][-9:-4])\n",
    "    new_count={\"Time\":list2, \"Count\":list1}"
   ]
  },
  {
   "cell_type": "code",
   "execution_count": 83,
   "id": "15df600a",
   "metadata": {},
   "outputs": [
    {
     "data": {
      "text/plain": [
       "{'Time': ['13_22', '13_53', '14_22', '14_53'], 'Count': [101, 115, 130, 141]}"
      ]
     },
     "execution_count": 83,
     "metadata": {},
     "output_type": "execute_result"
    }
   ],
   "source": [
    "new_count"
   ]
  },
  {
   "cell_type": "code",
   "execution_count": 84,
   "id": "c1a898c0",
   "metadata": {},
   "outputs": [],
   "source": [
    "news_count = pd.DataFrame.from_dict(new_count)"
   ]
  },
  {
   "cell_type": "code",
   "execution_count": 85,
   "id": "e74f5e22",
   "metadata": {},
   "outputs": [
    {
     "data": {
      "text/html": [
       "<div>\n",
       "<style scoped>\n",
       "    .dataframe tbody tr th:only-of-type {\n",
       "        vertical-align: middle;\n",
       "    }\n",
       "\n",
       "    .dataframe tbody tr th {\n",
       "        vertical-align: top;\n",
       "    }\n",
       "\n",
       "    .dataframe thead th {\n",
       "        text-align: right;\n",
       "    }\n",
       "</style>\n",
       "<table border=\"1\" class=\"dataframe\">\n",
       "  <thead>\n",
       "    <tr style=\"text-align: right;\">\n",
       "      <th></th>\n",
       "      <th>Time</th>\n",
       "      <th>Count</th>\n",
       "    </tr>\n",
       "  </thead>\n",
       "  <tbody>\n",
       "    <tr>\n",
       "      <th>0</th>\n",
       "      <td>13_22</td>\n",
       "      <td>101</td>\n",
       "    </tr>\n",
       "    <tr>\n",
       "      <th>1</th>\n",
       "      <td>13_53</td>\n",
       "      <td>115</td>\n",
       "    </tr>\n",
       "    <tr>\n",
       "      <th>2</th>\n",
       "      <td>14_22</td>\n",
       "      <td>130</td>\n",
       "    </tr>\n",
       "    <tr>\n",
       "      <th>3</th>\n",
       "      <td>14_53</td>\n",
       "      <td>141</td>\n",
       "    </tr>\n",
       "  </tbody>\n",
       "</table>\n",
       "</div>"
      ],
      "text/plain": [
       "    Time  Count\n",
       "0  13_22    101\n",
       "1  13_53    115\n",
       "2  14_22    130\n",
       "3  14_53    141"
      ]
     },
     "execution_count": 85,
     "metadata": {},
     "output_type": "execute_result"
    }
   ],
   "source": [
    "news_count"
   ]
  },
  {
   "cell_type": "code",
   "execution_count": 104,
   "id": "f254ae1d",
   "metadata": {},
   "outputs": [
    {
     "ename": "AttributeError",
     "evalue": "'str' object has no attribute 'head'",
     "output_type": "error",
     "traceback": [
      "\u001b[1;31m---------------------------------------------------------------------------\u001b[0m",
      "\u001b[1;31mAttributeError\u001b[0m                            Traceback (most recent call last)",
      "\u001b[1;32m~\\AppData\\Local\\Temp\\ipykernel_9072\\387228819.py\u001b[0m in \u001b[0;36m<module>\u001b[1;34m\u001b[0m\n\u001b[0;32m      1\u001b[0m \u001b[1;32mfor\u001b[0m \u001b[0mi\u001b[0m \u001b[1;32min\u001b[0m \u001b[0mrange\u001b[0m\u001b[1;33m(\u001b[0m\u001b[1;36m1\u001b[0m\u001b[1;33m,\u001b[0m \u001b[0mlen\u001b[0m\u001b[1;33m(\u001b[0m\u001b[0mdirs\u001b[0m\u001b[1;33m)\u001b[0m\u001b[1;33m)\u001b[0m\u001b[1;33m:\u001b[0m\u001b[1;33m\u001b[0m\u001b[1;33m\u001b[0m\u001b[0m\n\u001b[1;32m----> 2\u001b[1;33m     \u001b[0mprint\u001b[0m\u001b[1;33m(\u001b[0m\u001b[0mdirs\u001b[0m\u001b[1;33m[\u001b[0m\u001b[1;33m-\u001b[0m\u001b[1;36m1\u001b[0m\u001b[1;33m]\u001b[0m\u001b[1;33m.\u001b[0m\u001b[0mhead\u001b[0m\u001b[1;33m(\u001b[0m\u001b[1;33m)\u001b[0m\u001b[1;33m)\u001b[0m\u001b[1;33m\u001b[0m\u001b[1;33m\u001b[0m\u001b[0m\n\u001b[0m",
      "\u001b[1;31mAttributeError\u001b[0m: 'str' object has no attribute 'head'"
     ]
    }
   ],
   "source": [
    "for i in range(1, len(dirs)):\n",
    "    print(dirs[-1].head())"
   ]
  },
  {
   "cell_type": "code",
   "execution_count": null,
   "id": "9aadfc78",
   "metadata": {},
   "outputs": [],
   "source": [
    "new_count={\"Time\":['13:22',\"13:53\",\"14:22\",\"14:53\" ], \"Count\":[data1.shape[0],data2.shape[0],data3.shape[0],data4.shape[0]]}"
   ]
  },
  {
   "cell_type": "code",
   "execution_count": 2,
   "id": "58e77f89",
   "metadata": {},
   "outputs": [],
   "source": [
    "data1=pd.read_csv(r'sitemap_news_2023-04-26__13_22.csv').drop('Unnamed: 0',axis=1)\n",
    "data2=pd.read_csv(r'sitemap_news_2023-04-26__13_53.csv').drop('Unnamed: 0',axis=1)\n",
    "data3=pd.read_csv(r'sitemap_news_2023-04-26__14_22.csv').drop('Unnamed: 0',axis=1)\n",
    "data4=pd.read_csv(r'sitemap_news_2023-04-26__14_53.csv').drop('Unnamed: 0',axis=1)"
   ]
  },
  {
   "cell_type": "code",
   "execution_count": 3,
   "id": "da55be9c",
   "metadata": {},
   "outputs": [],
   "source": [
    "new_count={\"Time\":['13:22',\"13:53\",\"14:22\",\"14:53\" ], \"Count\":[data1.shape[0],data2.shape[0],data3.shape[0],data4.shape[0]]}"
   ]
  },
  {
   "cell_type": "code",
   "execution_count": 4,
   "id": "11f5572f",
   "metadata": {},
   "outputs": [],
   "source": [
    "news_count = pd.DataFrame.from_dict(new_count)"
   ]
  },
  {
   "cell_type": "code",
   "execution_count": 5,
   "id": "f171127d",
   "metadata": {},
   "outputs": [
    {
     "data": {
      "text/html": [
       "<div>\n",
       "<style scoped>\n",
       "    .dataframe tbody tr th:only-of-type {\n",
       "        vertical-align: middle;\n",
       "    }\n",
       "\n",
       "    .dataframe tbody tr th {\n",
       "        vertical-align: top;\n",
       "    }\n",
       "\n",
       "    .dataframe thead th {\n",
       "        text-align: right;\n",
       "    }\n",
       "</style>\n",
       "<table border=\"1\" class=\"dataframe\">\n",
       "  <thead>\n",
       "    <tr style=\"text-align: right;\">\n",
       "      <th></th>\n",
       "      <th>Time</th>\n",
       "      <th>Count</th>\n",
       "    </tr>\n",
       "  </thead>\n",
       "  <tbody>\n",
       "    <tr>\n",
       "      <th>0</th>\n",
       "      <td>13:22</td>\n",
       "      <td>101</td>\n",
       "    </tr>\n",
       "    <tr>\n",
       "      <th>1</th>\n",
       "      <td>13:53</td>\n",
       "      <td>115</td>\n",
       "    </tr>\n",
       "    <tr>\n",
       "      <th>2</th>\n",
       "      <td>14:22</td>\n",
       "      <td>130</td>\n",
       "    </tr>\n",
       "    <tr>\n",
       "      <th>3</th>\n",
       "      <td>14:53</td>\n",
       "      <td>141</td>\n",
       "    </tr>\n",
       "  </tbody>\n",
       "</table>\n",
       "</div>"
      ],
      "text/plain": [
       "    Time  Count\n",
       "0  13:22    101\n",
       "1  13:53    115\n",
       "2  14:22    130\n",
       "3  14:53    141"
      ]
     },
     "execution_count": 5,
     "metadata": {},
     "output_type": "execute_result"
    }
   ],
   "source": [
    "news_count"
   ]
  },
  {
   "cell_type": "code",
   "execution_count": 6,
   "id": "e7249362",
   "metadata": {},
   "outputs": [],
   "source": [
    "old=set(data1['Title'])\n",
    "new=set(data2['Title'])\n",
    "\n",
    "old1=set(data2['Title'])\n",
    "new1=set(data3['Title'])\n",
    "\n",
    "old2=set(data3['Title'])\n",
    "new2=set(data4['Title'])"
   ]
  },
  {
   "cell_type": "code",
   "execution_count": 7,
   "id": "ca1e1d18",
   "metadata": {},
   "outputs": [],
   "source": [
    "dif_old = old.difference(new)\n",
    "dif_old1 = old1.difference(new1)\n",
    "dif_old2 = old2.difference(new2)"
   ]
  },
  {
   "cell_type": "code",
   "execution_count": 8,
   "id": "24546d96",
   "metadata": {},
   "outputs": [],
   "source": [
    "dif_new = new.difference(old)\n",
    "dif_new1 = new1.difference(old1)\n",
    "dif_new2 = new2.difference(old2)"
   ]
  },
  {
   "cell_type": "code",
   "execution_count": 9,
   "id": "4fdb1937",
   "metadata": {},
   "outputs": [],
   "source": [
    "inter = old.intersection(new)\n",
    "inter1 = old1.intersection(new1)\n",
    "inter2 = old2.intersection(new2)"
   ]
  },
  {
   "cell_type": "code",
   "execution_count": 10,
   "id": "cb7bed3d",
   "metadata": {},
   "outputs": [],
   "source": [
    "comp={\"Time\":['13_22 - 13_53', '13_53 - 14_22', '14_22 - 14_53'],\"NEW\": [len(dif_new),len(dif_new1),len(dif_new2)],\"SAME\":[len(inter),len(inter1),len(inter2)],\"EXCLUDED\":[len(dif_old),len(dif_old1),len(dif_old2)]}"
   ]
  },
  {
   "cell_type": "code",
   "execution_count": 11,
   "id": "75352fb7",
   "metadata": {},
   "outputs": [],
   "source": [
    "news_compare = pd.DataFrame.from_dict(comp)"
   ]
  },
  {
   "cell_type": "code",
   "execution_count": 12,
   "id": "d00c8712",
   "metadata": {},
   "outputs": [
    {
     "data": {
      "text/html": [
       "<div>\n",
       "<style scoped>\n",
       "    .dataframe tbody tr th:only-of-type {\n",
       "        vertical-align: middle;\n",
       "    }\n",
       "\n",
       "    .dataframe tbody tr th {\n",
       "        vertical-align: top;\n",
       "    }\n",
       "\n",
       "    .dataframe thead th {\n",
       "        text-align: right;\n",
       "    }\n",
       "</style>\n",
       "<table border=\"1\" class=\"dataframe\">\n",
       "  <thead>\n",
       "    <tr style=\"text-align: right;\">\n",
       "      <th></th>\n",
       "      <th>Time</th>\n",
       "      <th>NEW</th>\n",
       "      <th>SAME</th>\n",
       "      <th>EXCLUDED</th>\n",
       "    </tr>\n",
       "  </thead>\n",
       "  <tbody>\n",
       "    <tr>\n",
       "      <th>0</th>\n",
       "      <td>13_22 - 13_53</td>\n",
       "      <td>16</td>\n",
       "      <td>99</td>\n",
       "      <td>2</td>\n",
       "    </tr>\n",
       "    <tr>\n",
       "      <th>1</th>\n",
       "      <td>13_53 - 14_22</td>\n",
       "      <td>17</td>\n",
       "      <td>113</td>\n",
       "      <td>2</td>\n",
       "    </tr>\n",
       "    <tr>\n",
       "      <th>2</th>\n",
       "      <td>14_22 - 14_53</td>\n",
       "      <td>10</td>\n",
       "      <td>130</td>\n",
       "      <td>0</td>\n",
       "    </tr>\n",
       "  </tbody>\n",
       "</table>\n",
       "</div>"
      ],
      "text/plain": [
       "            Time  NEW  SAME  EXCLUDED\n",
       "0  13_22 - 13_53   16    99         2\n",
       "1  13_53 - 14_22   17   113         2\n",
       "2  14_22 - 14_53   10   130         0"
      ]
     },
     "execution_count": 12,
     "metadata": {},
     "output_type": "execute_result"
    }
   ],
   "source": [
    "news_compare"
   ]
  }
 ],
 "metadata": {
  "kernelspec": {
   "display_name": "Python 3 (ipykernel)",
   "language": "python",
   "name": "python3"
  },
  "language_info": {
   "codemirror_mode": {
    "name": "ipython",
    "version": 3
   },
   "file_extension": ".py",
   "mimetype": "text/x-python",
   "name": "python",
   "nbconvert_exporter": "python",
   "pygments_lexer": "ipython3",
   "version": "3.9.13"
  }
 },
 "nbformat": 4,
 "nbformat_minor": 5
}
