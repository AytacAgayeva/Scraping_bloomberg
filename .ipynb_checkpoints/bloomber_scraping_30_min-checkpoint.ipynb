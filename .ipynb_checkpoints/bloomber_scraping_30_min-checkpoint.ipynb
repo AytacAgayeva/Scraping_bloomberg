{
 "cells": [
  {
   "cell_type": "code",
   "execution_count": 82,
   "id": "0078e64c",
   "metadata": {},
   "outputs": [],
   "source": [
    "import requests\n",
    "from bs4 import BeautifulSoup\n",
    "import pandas as pd\n",
    "from datetime import date,datetime\n",
    "import os, sys"
   ]
  },
  {
   "cell_type": "code",
   "execution_count": 83,
   "id": "686e2178",
   "metadata": {},
   "outputs": [
    {
     "name": "stdout",
     "output_type": "stream",
     "text": [
      "100% [............................................................................] 218557 / 218557"
     ]
    }
   ],
   "source": [
    "import wget\n",
    "url = 'https://www.bloomberg.com/feeds/sitemap_news.xml'\n",
    "today=date.today()\n",
    "now = datetime.now()\n",
    "current_time = now.strftime(\"%H_%M\")\n",
    "name=f\"sitemap_news_{today}__{current_time}.xml\"\n",
    "filename = wget.download(url,name)"
   ]
  },
  {
   "cell_type": "code",
   "execution_count": 71,
   "id": "94ac1d5a",
   "metadata": {},
   "outputs": [],
   "source": [
    "with open(filename, 'r',encoding='utf-8') as file:\n",
    "    xml_content = file.read()"
   ]
  },
  {
   "cell_type": "code",
   "execution_count": 72,
   "id": "8a8d9219",
   "metadata": {},
   "outputs": [],
   "source": [
    "soup = BeautifulSoup(xml_content, 'xml')\n",
    "urls = soup.find_all(\"url\")\n",
    "\n",
    "data = []\n",
    "for url in urls:\n",
    "    loc = url.loc.text\n",
    "    title = url.find(\"news:title\").text\n",
    "    publication_date = url.find(\"news:publication_date\").text[:10]\n",
    "    publication_time = url.find(\"news:publication_date\").text[11:19]\n",
    "    image_loc_tag = url.find(\"image:loc\")\n",
    "    if image_loc_tag is not None:\n",
    "        image_loc = image_loc_tag.text\n",
    "    row_data = {\n",
    "        \"URL\": loc,\n",
    "        \"Title\": title,\n",
    "        \"Publication Date\": publication_date,\n",
    "        \"Publication Time\": publication_time,\n",
    "        \"Image URL\": image_loc,\n",
    "        }\n",
    "    data.append(row_data)    \n",
    "df = pd.DataFrame(data)\n",
    "path=\"C:/Users/Aytac Agayev/Documents/Scraping_blommberg_news_every_30_min/json\"\n",
    "df.to_json(os.path.join(path,f'sitemap_news_{today}__{current_time}.json'))"
   ]
  },
  {
   "cell_type": "code",
   "execution_count": 73,
   "id": "d8d581cd",
   "metadata": {},
   "outputs": [],
   "source": [
    "data = [(pd.read_json(os.path.join(path, f)), f[-10:-5]) for f in os.listdir(path) if f.endswith(\".json\")]\n",
    "news_count = pd.DataFrame({\"Time\": [time for _, time in data], \"Count\": [datas.shape[0] for datas, _ in data]})\n",
    "old_data = None\n",
    "old_time = None\n",
    "old_file_name = None\n",
    "news_data = []\n",
    "for d, t in data:\n",
    "    if old_data is not None:\n",
    "        old = set(old_data['Title'])\n",
    "        new = set(d['Title'])\n",
    "        dif_old = old.difference(new)\n",
    "        dif_new = new.difference(old)\n",
    "        inter = old.intersection(new)\n",
    "        news_time = old_time + ' - ' + t\n",
    "        news_data.append({'Time': news_time, 'NEW': len(dif_new), 'SAME': len(inter), 'EXCLUDED': len(dif_old)})\n",
    "    old_data = d\n",
    "    old_time = t\n",
    "all_news = pd.DataFrame({\"Time\": [d[\"Time\"] for d in news_data], \n",
    "                          \"NEW\": [d[\"NEW\"] for d in news_data], \n",
    "                          \"SAME\": [d[\"SAME\"] for d in news_data], \n",
    "                          \"EXCLUDED\": [d[\"EXCLUDED\"] for d in news_data]})"
   ]
  },
  {
   "cell_type": "code",
   "execution_count": 74,
   "id": "269623f5",
   "metadata": {},
   "outputs": [
    {
     "data": {
      "text/html": [
       "<div>\n",
       "<style scoped>\n",
       "    .dataframe tbody tr th:only-of-type {\n",
       "        vertical-align: middle;\n",
       "    }\n",
       "\n",
       "    .dataframe tbody tr th {\n",
       "        vertical-align: top;\n",
       "    }\n",
       "\n",
       "    .dataframe thead th {\n",
       "        text-align: right;\n",
       "    }\n",
       "</style>\n",
       "<table border=\"1\" class=\"dataframe\">\n",
       "  <thead>\n",
       "    <tr style=\"text-align: right;\">\n",
       "      <th></th>\n",
       "      <th>Time</th>\n",
       "      <th>Count</th>\n",
       "    </tr>\n",
       "  </thead>\n",
       "  <tbody>\n",
       "    <tr>\n",
       "      <th>0</th>\n",
       "      <td>14_59</td>\n",
       "      <td>274</td>\n",
       "    </tr>\n",
       "    <tr>\n",
       "      <th>1</th>\n",
       "      <td>15_14</td>\n",
       "      <td>269</td>\n",
       "    </tr>\n",
       "    <tr>\n",
       "      <th>2</th>\n",
       "      <td>15_20</td>\n",
       "      <td>267</td>\n",
       "    </tr>\n",
       "    <tr>\n",
       "      <th>3</th>\n",
       "      <td>15_26</td>\n",
       "      <td>265</td>\n",
       "    </tr>\n",
       "    <tr>\n",
       "      <th>4</th>\n",
       "      <td>15_28</td>\n",
       "      <td>265</td>\n",
       "    </tr>\n",
       "    <tr>\n",
       "      <th>5</th>\n",
       "      <td>15_31</td>\n",
       "      <td>260</td>\n",
       "    </tr>\n",
       "    <tr>\n",
       "      <th>6</th>\n",
       "      <td>15_42</td>\n",
       "      <td>259</td>\n",
       "    </tr>\n",
       "  </tbody>\n",
       "</table>\n",
       "</div>"
      ],
      "text/plain": [
       "    Time  Count\n",
       "0  14_59    274\n",
       "1  15_14    269\n",
       "2  15_20    267\n",
       "3  15_26    265\n",
       "4  15_28    265\n",
       "5  15_31    260\n",
       "6  15_42    259"
      ]
     },
     "execution_count": 74,
     "metadata": {},
     "output_type": "execute_result"
    }
   ],
   "source": [
    "news_count"
   ]
  },
  {
   "cell_type": "code",
   "execution_count": 75,
   "id": "48068169",
   "metadata": {},
   "outputs": [
    {
     "data": {
      "text/html": [
       "<div>\n",
       "<style scoped>\n",
       "    .dataframe tbody tr th:only-of-type {\n",
       "        vertical-align: middle;\n",
       "    }\n",
       "\n",
       "    .dataframe tbody tr th {\n",
       "        vertical-align: top;\n",
       "    }\n",
       "\n",
       "    .dataframe thead th {\n",
       "        text-align: right;\n",
       "    }\n",
       "</style>\n",
       "<table border=\"1\" class=\"dataframe\">\n",
       "  <thead>\n",
       "    <tr style=\"text-align: right;\">\n",
       "      <th></th>\n",
       "      <th>Time</th>\n",
       "      <th>NEW</th>\n",
       "      <th>SAME</th>\n",
       "      <th>EXCLUDED</th>\n",
       "    </tr>\n",
       "  </thead>\n",
       "  <tbody>\n",
       "    <tr>\n",
       "      <th>0</th>\n",
       "      <td>14_59 - 15_14</td>\n",
       "      <td>4</td>\n",
       "      <td>265</td>\n",
       "      <td>9</td>\n",
       "    </tr>\n",
       "    <tr>\n",
       "      <th>1</th>\n",
       "      <td>15_14 - 15_20</td>\n",
       "      <td>0</td>\n",
       "      <td>267</td>\n",
       "      <td>2</td>\n",
       "    </tr>\n",
       "    <tr>\n",
       "      <th>2</th>\n",
       "      <td>15_20 - 15_26</td>\n",
       "      <td>0</td>\n",
       "      <td>265</td>\n",
       "      <td>2</td>\n",
       "    </tr>\n",
       "    <tr>\n",
       "      <th>3</th>\n",
       "      <td>15_26 - 15_28</td>\n",
       "      <td>0</td>\n",
       "      <td>265</td>\n",
       "      <td>0</td>\n",
       "    </tr>\n",
       "    <tr>\n",
       "      <th>4</th>\n",
       "      <td>15_28 - 15_31</td>\n",
       "      <td>0</td>\n",
       "      <td>260</td>\n",
       "      <td>5</td>\n",
       "    </tr>\n",
       "    <tr>\n",
       "      <th>5</th>\n",
       "      <td>15_31 - 15_42</td>\n",
       "      <td>0</td>\n",
       "      <td>259</td>\n",
       "      <td>1</td>\n",
       "    </tr>\n",
       "  </tbody>\n",
       "</table>\n",
       "</div>"
      ],
      "text/plain": [
       "            Time  NEW  SAME  EXCLUDED\n",
       "0  14_59 - 15_14    4   265         9\n",
       "1  15_14 - 15_20    0   267         2\n",
       "2  15_20 - 15_26    0   265         2\n",
       "3  15_26 - 15_28    0   265         0\n",
       "4  15_28 - 15_31    0   260         5\n",
       "5  15_31 - 15_42    0   259         1"
      ]
     },
     "execution_count": 75,
     "metadata": {},
     "output_type": "execute_result"
    }
   ],
   "source": [
    "all_news"
   ]
  },
  {
   "cell_type": "code",
   "execution_count": null,
   "id": "6570bccf",
   "metadata": {},
   "outputs": [],
   "source": [
    "https://aues.edu.kz/ru/students/diplom-one?institute_id=3"
   ]
  }
 ],
 "metadata": {
  "kernelspec": {
   "display_name": "Python 3 (ipykernel)",
   "language": "python",
   "name": "python3"
  },
  "language_info": {
   "codemirror_mode": {
    "name": "ipython",
    "version": 3
   },
   "file_extension": ".py",
   "mimetype": "text/x-python",
   "name": "python",
   "nbconvert_exporter": "python",
   "pygments_lexer": "ipython3",
   "version": "3.9.13"
  }
 },
 "nbformat": 4,
 "nbformat_minor": 5
}
